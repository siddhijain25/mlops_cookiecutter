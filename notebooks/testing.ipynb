{
 "cells": [
  {
   "cell_type": "code",
   "execution_count": 3,
   "metadata": {},
   "outputs": [],
   "source": [
    "import torch\n",
    "import numpy as np\n",
    "import os\n",
    "import glob"
   ]
  },
  {
   "cell_type": "code",
   "execution_count": 4,
   "metadata": {},
   "outputs": [
    {
     "name": "stdout",
     "output_type": "stream",
     "text": [
      "[array([5, 9, 7, ..., 2, 9, 9]), array([5, 0, 4, ..., 2, 1, 2]), array([7, 3, 4, ..., 6, 9, 7]), array([5, 1, 1, ..., 1, 4, 2]), array([3, 8, 7, ..., 7, 1, 7])]\n"
     ]
    }
   ],
   "source": [
    "import torch\n",
    "import numpy as np\n",
    "import os\n",
    "import glob\n",
    "\n",
    "\n",
    "def mnist():\n",
    "   # initialize data arrays\n",
    "    X_train = []\n",
    "    y_train = []\n",
    "    X_test = []\n",
    "    y_test = []\n",
    "\n",
    "    # search all files inside a specific folder\n",
    "    # *.npz means file name only with npz extension\n",
    "    dir_path = r'/Users/alaina/Desktop/classes/2023Jan/dtu_mlops/data/corruptmnist/*.npz'\n",
    "    for file in glob.glob(dir_path, recursive=True):\n",
    "        # save the data and labels for each of the train and test files\n",
    "        # save training first\n",
    "        if 'train' in file:\n",
    "            X_train.append(np.load(str(file))['images'])\n",
    "            y_train.append(np.load(str(file))['labels'])\n",
    "        # save test second\n",
    "        elif 'test' in file:\n",
    "            X_test.append(np.load(str(file))['images'])\n",
    "            y_test.append(np.load(str(file))['labels'])\n",
    "    # return train, test\n",
    "    return (X_train, y_train) , (X_test, y_test)\n",
    "\n",
    "(,b), (c,d)= mnist()\n",
    "print(b)\n"
   ]
  },
  {
   "cell_type": "code",
   "execution_count": 5,
   "metadata": {},
   "outputs": [
    {
     "name": "stdout",
     "output_type": "stream",
     "text": [
      "/Users/alaina/Desktop/classes/2023Jan/dtu_mlops/data/corruptmnist/test.npz\n",
      "/Users/alaina/Desktop/classes/2023Jan/dtu_mlops/data/corruptmnist/train_4.npz\n",
      "/Users/alaina/Desktop/classes/2023Jan/dtu_mlops/data/corruptmnist/train_0.npz\n",
      "/Users/alaina/Desktop/classes/2023Jan/dtu_mlops/data/corruptmnist/train_1.npz\n",
      "/Users/alaina/Desktop/classes/2023Jan/dtu_mlops/data/corruptmnist/train_3.npz\n",
      "/Users/alaina/Desktop/classes/2023Jan/dtu_mlops/data/corruptmnist/train_2.npz\n"
     ]
    }
   ],
   "source": [
    "# search all files inside a specific folder\n",
    "# *.npz means file name only with npz extension\n",
    "dir_path = r'/Users/alaina/Desktop/classes/2023Jan/dtu_mlops/data/corruptmnist/*.npz'\n",
    "for file in glob.glob(dir_path, recursive=True):\n",
    "    print(file)"
   ]
  },
  {
   "cell_type": "code",
   "execution_count": 6,
   "metadata": {},
   "outputs": [
    {
     "name": "stdout",
     "output_type": "stream",
     "text": [
      "images\n",
      "labels\n",
      "allow_pickle\n",
      "images\n",
      "labels\n",
      "allow_pickle\n",
      "images\n",
      "labels\n",
      "allow_pickle\n",
      "images\n",
      "labels\n",
      "allow_pickle\n",
      "images\n",
      "labels\n",
      "allow_pickle\n",
      "images\n",
      "labels\n",
      "allow_pickle\n"
     ]
    },
    {
     "name": "stderr",
     "output_type": "stream",
     "text": [
      "/var/folders/z5/w7rdzhpn7xx4g1wy_6cb0stw0000gn/T/ipykernel_89510/4170276832.py:4: DeprecationWarning: NpzFile.iterkeys is deprecated in python 3, to match the removal of dict.iterkeys. Use .keys() instead.\n",
      "  for key in numpy_array.iterkeys():\n"
     ]
    }
   ],
   "source": [
    "dir_path = r'/Users/alaina/Desktop/classes/2023Jan/dtu_mlops/data/corruptmnist/*.npz'\n",
    "for file in glob.glob(dir_path, recursive=True):\n",
    "    numpy_array = np.load(str(file)) #['image']\n",
    "    for key in numpy_array.iterkeys():\n",
    "        print(key)\n",
    "    # torch_array = torch.from_numpy(numpy_array)"
   ]
  },
  {
   "cell_type": "code",
   "execution_count": 7,
   "metadata": {},
   "outputs": [
    {
     "ename": "NameError",
     "evalue": "name 'X_train' is not defined",
     "output_type": "error",
     "traceback": [
      "\u001b[0;31m---------------------------------------------------------------------------\u001b[0m",
      "\u001b[0;31mNameError\u001b[0m                                 Traceback (most recent call last)",
      "\u001b[1;32m/Users/alaina/Desktop/classes/2023Jan/dtu_mlops_cookiecutter/notebooks/testing.ipynb Cell 5\u001b[0m in \u001b[0;36m<cell line: 1>\u001b[0;34m()\u001b[0m\n\u001b[0;32m----> <a href='vscode-notebook-cell:/Users/alaina/Desktop/classes/2023Jan/dtu_mlops_cookiecutter/notebooks/testing.ipynb#W4sZmlsZQ%3D%3D?line=0'>1</a>\u001b[0m X_train[\u001b[39m0\u001b[39m][\u001b[39m90\u001b[39m]\n",
      "\u001b[0;31mNameError\u001b[0m: name 'X_train' is not defined"
     ]
    }
   ],
   "source": [
    "X_train[0][90]"
   ]
  },
  {
   "cell_type": "code",
   "execution_count": null,
   "metadata": {},
   "outputs": [
    {
     "ename": "SyntaxError",
     "evalue": "invalid syntax (2966276263.py, line 1)",
     "output_type": "error",
     "traceback": [
      "\u001b[0;36m  Input \u001b[0;32mIn [2]\u001b[0;36m\u001b[0m\n\u001b[0;31m    X_train[0]??\u001b[0m\n\u001b[0m              ^\u001b[0m\n\u001b[0;31mSyntaxError\u001b[0m\u001b[0;31m:\u001b[0m invalid syntax\n"
     ]
    }
   ],
   "source": [
    "X_train[0]??"
   ]
  },
  {
   "cell_type": "code",
   "execution_count": 9,
   "metadata": {},
   "outputs": [],
   "source": [
    "# # -*- coding: utf-8 -*-\n",
    "# import click\n",
    "# import logging\n",
    "# from pathlib import Path\n",
    "# from dotenv import find_dotenv, load_dotenv\n",
    "# import torch\n",
    "# import numpy as np\n",
    "# import glob\n",
    "\n",
    "\n",
    "# class Dataset():\n",
    "#     def __init__(self,data,target):\n",
    "#         self.data = data\n",
    "#         self.target = target\n",
    "    \n",
    "#     def __len__(self):\n",
    "#         return len(self.data)\n",
    "    \n",
    "#     def __getitem__(self,idx):\n",
    "#         if torch.is_tensor(idx):\n",
    "#             idx = idx.tolist()\n",
    "#         X = self.data[idx]\n",
    "#         y = self.target[idx]\n",
    "    \n",
    "#         return X,y\n",
    "\n",
    "\n",
    "# def mnist():\n",
    "# # set filepaths\n",
    "#     input_filepath = \"/Users/alaina/Desktop/classes/2023Jan/dtu_mlops_cookiecutter/data/raw/\"\n",
    "#     output_filepath = \"/Users/alaina/Desktop/classes/2023Jan/dtu_mlops_cookiecutter/data/processed/\"\n",
    "\n",
    "\n",
    "# # @click.command()\n",
    "# # @click.argument('input_filepath', type=click.Path(exists=True))\n",
    "# # @click.argument('output_filepath', type=click.Path())\n",
    "# # def main(input_filepath, output_filepath):\n",
    "# #     \"\"\" Runs data processing scripts to turn raw data from (../raw) into\n",
    "# #         cleaned data ready to be analyzed (saved in ../processed).\n",
    "# #     \"\"\"\n",
    "# #     logger = logging.getLogger(__name__)\n",
    "# #     logger.info('making final data set from raw data')\n",
    "    \n",
    "#     # set file paths\n",
    "#     train_files = glob.glob(r'/Users/alaina/Desktop/classes/2023Jan/dtu_mlops/data/corruptmnist/train*.npz')\n",
    "#     test_files = glob.glob(r'/Users/alaina/Desktop/classes/2023Jan/dtu_mlops/data/corruptmnist/test*.npz')\n",
    "\n",
    "#     # initialize X and y arrays for training\n",
    "#     train_images = []\n",
    "#     train_labels = []\n",
    "#     for file in train_files:\n",
    "#         data = np.load(file)\n",
    "#         train_images.append(data['images'])\n",
    "#         train_labels.append(data['labels'])\n",
    "#     train_images = np.concatenate((train_images),axis=0)\n",
    "#     train_labels = np.concatenate((train_labels),axis=0)\n",
    "\n",
    "#     # initialize X and y arrays for testing\n",
    "#     test_images = []\n",
    "#     test_labels = []\n",
    "#     for file in test_files:\n",
    "#         data = np.load(file)\n",
    "#         test_images.append(data['images'])\n",
    "#         test_labels.append(data['labels'])\n",
    "#     test_images = np.concatenate((test_images),axis=0)\n",
    "#     test_labels = np.concatenate((test_labels),axis=0)\n",
    "\n",
    "#     # convert training data to appropriate format\n",
    "#     train_images = torch.from_numpy(train_images).float()\n",
    "#     train_labels = torch.from_numpy(train_labels).long()\n",
    "\n",
    "#     # convert test data to appropriate format\n",
    "#     test_images = torch.from_numpy(test_images).float()\n",
    "#     test_labels = torch.from_numpy(test_labels).long()\n",
    "\n",
    "#     # return a tuple for train and test respectively using the Dataset class\n",
    "#     train = Dataset(train_images,train_labels)\n",
    "#     test = Dataset(test_images,test_labels) \n",
    "#     return train, test"
   ]
  },
  {
   "cell_type": "code",
   "execution_count": 20,
   "metadata": {},
   "outputs": [
    {
     "name": "stdout",
     "output_type": "stream",
     "text": [
      "tensor([[[0., 0., 0.,  ..., 0., 0., 0.],\n",
      "         [0., 0., 0.,  ..., 0., 0., 0.],\n",
      "         [0., 0., 0.,  ..., 0., 0., 0.],\n",
      "         ...,\n",
      "         [0., 0., 0.,  ..., 0., 0., 0.],\n",
      "         [0., 0., 0.,  ..., 0., 0., 0.],\n",
      "         [0., 0., 0.,  ..., 0., 0., 0.]],\n",
      "\n",
      "        [[0., 0., 0.,  ..., 0., 0., 0.],\n",
      "         [0., 0., 0.,  ..., 0., 0., 0.],\n",
      "         [0., 0., 0.,  ..., 0., 0., 0.],\n",
      "         ...,\n",
      "         [0., 0., 0.,  ..., 0., 0., 0.],\n",
      "         [0., 0., 0.,  ..., 0., 0., 0.],\n",
      "         [0., 0., 0.,  ..., 0., 0., 0.]],\n",
      "\n",
      "        [[0., 0., 0.,  ..., 0., 0., 0.],\n",
      "         [0., 0., 0.,  ..., 0., 0., 0.],\n",
      "         [0., 0., 0.,  ..., 0., 0., 0.],\n",
      "         ...,\n",
      "         [0., 0., 0.,  ..., 0., 0., 0.],\n",
      "         [0., 0., 0.,  ..., 0., 0., 0.],\n",
      "         [0., 0., 0.,  ..., 0., 0., 0.]],\n",
      "\n",
      "        ...,\n",
      "\n",
      "        [[0., 0., 0.,  ..., 0., 0., 0.],\n",
      "         [0., 0., 0.,  ..., 0., 0., 0.],\n",
      "         [0., 0., 0.,  ..., 0., 0., 0.],\n",
      "         ...,\n",
      "         [0., 0., 0.,  ..., 0., 0., 0.],\n",
      "         [0., 0., 0.,  ..., 0., 0., 0.],\n",
      "         [0., 0., 0.,  ..., 0., 0., 0.]],\n",
      "\n",
      "        [[0., 0., 0.,  ..., 0., 0., 0.],\n",
      "         [0., 0., 0.,  ..., 0., 0., 0.],\n",
      "         [0., 0., 0.,  ..., 0., 0., 0.],\n",
      "         ...,\n",
      "         [0., 0., 0.,  ..., 0., 0., 0.],\n",
      "         [0., 0., 0.,  ..., 0., 0., 0.],\n",
      "         [0., 0., 0.,  ..., 0., 0., 0.]],\n",
      "\n",
      "        [[0., 0., 0.,  ..., 0., 0., 0.],\n",
      "         [0., 0., 0.,  ..., 0., 0., 0.],\n",
      "         [0., 0., 0.,  ..., 0., 0., 0.],\n",
      "         ...,\n",
      "         [0., 0., 0.,  ..., 0., 0., 0.],\n",
      "         [0., 0., 0.,  ..., 0., 0., 0.],\n",
      "         [0., 0., 0.,  ..., 0., 0., 0.]]])\n"
     ]
    }
   ],
   "source": [
    "# -*- coding: utf-8 -*-\n",
    "import click\n",
    "import logging\n",
    "from pathlib import Path\n",
    "from dotenv import find_dotenv, load_dotenv\n",
    "import torch\n",
    "import numpy as np\n",
    "import glob\n",
    "import io\n",
    "\n",
    "class Dataset():\n",
    "    def __init__(self,data,target):\n",
    "        self.data = data\n",
    "        self.target = target\n",
    "    \n",
    "    def __len__(self):\n",
    "        return len(self.data)\n",
    "    \n",
    "    def __getitem__(self,idx):\n",
    "        if torch.is_tensor(idx):\n",
    "            idx = idx.tolist()\n",
    "        X = self.data[idx]\n",
    "        y = self.target[idx]\n",
    "    \n",
    "        return X,y\n",
    "\n",
    "\n",
    "\n",
    "# set filepaths\n",
    "    input_filepath = \"/Users/alaina/Desktop/classes/2023Jan/dtu_mlops_cookiecutter/data/raw/\"\n",
    "    output_filepath = \"/Users/alaina/Desktop/classes/2023Jan/dtu_mlops_cookiecutter/data/processed/\"\n",
    "\n",
    "\n",
    "# @click.command()\n",
    "# @click.argument('input_filepath', type=click.Path(exists=True))\n",
    "# @click.argument('output_filepath', type=click.Path())\n",
    "# def main(input_filepath, output_filepath):\n",
    "#     \"\"\" Runs data processing scripts to turn raw data from (../raw) into\n",
    "#         cleaned data ready to be analyzed (saved in ../processed).\n",
    "#     \"\"\"\n",
    "#     logger = logging.getLogger(__name__)\n",
    "#     logger.info('making final data set from raw data')\n",
    "    \n",
    "# set file paths\n",
    "train_files = glob.glob(r'/Users/alaina/Desktop/classes/2023Jan/dtu_mlops/data/corruptmnist/train*.npz')\n",
    "test_files = glob.glob(r'/Users/alaina/Desktop/classes/2023Jan/dtu_mlops/data/corruptmnist/test*.npz')\n",
    "\n",
    "# initialize X and y arrays for training\n",
    "train_images = []\n",
    "train_labels = []\n",
    "for file in train_files:\n",
    "    data = np.load(file)\n",
    "    train_images.append(data['images'])\n",
    "    train_labels.append(data['labels'])\n",
    "train_images = np.concatenate((train_images),axis=0)\n",
    "train_labels = np.concatenate((train_labels),axis=0)\n",
    "\n",
    "# initialize X and y arrays for testing\n",
    "test_images = []\n",
    "test_labels = []\n",
    "for file in test_files:\n",
    "    data = np.load(file)\n",
    "    test_images.append(data['images'])\n",
    "    test_labels.append(data['labels'])\n",
    "test_images = np.concatenate((test_images),axis=0)\n",
    "test_labels = np.concatenate((test_labels),axis=0)\n",
    "\n",
    "# convert training data to appropriate format\n",
    "train_images = torch.from_numpy(train_images).float()\n",
    "train_labels = torch.from_numpy(train_labels).long()\n",
    "\n",
    "# convert test data to appropriate format\n",
    "test_images = torch.from_numpy(test_images).float()\n",
    "test_labels = torch.from_numpy(test_labels).long()\n",
    "\n",
    "print(test_images)\n",
    "\n",
    "# torch.save(test_images, 'test_images.pt')\n",
    "# torch.save(test_labels, 'test_labels.pt')\n",
    "# buffer = io.BytesIO()\n",
    "# torch.save(test_images, buffer)\n",
    "# torch.save(test_labels, buffer)\n",
    "\n",
    "\n",
    "# return a tuple for train and test respectively using the Dataset class\n",
    "# train = Dataset(train_images,train_labels)\n",
    "# test = Dataset(test_images,test_labels) \n"
   ]
  },
  {
   "cell_type": "code",
   "execution_count": 16,
   "metadata": {},
   "outputs": [
    {
     "name": "stdout",
     "output_type": "stream",
     "text": [
      "\u001b[0;31mType:\u001b[0m        Tensor\n",
      "\u001b[0;31mString form:\u001b[0m\n",
      "tensor([[[0., 0., 0.,  ..., 0., 0., 0.],\n",
      "         [0., 0., 0.,  ..., 0., 0., 0.],\n",
      "         [0., 0., 0.,  ..., 0., 0., 0.],\n",
      "         ...,\n",
      "         [0., 0., 0.,  ..., 0., 0., 0.],\n",
      "         [0., 0., 0.,  ..., 0., 0., 0.],\n",
      "         [0., 0., 0.,  ..., 0., 0., 0.]],\n",
      "\n",
      "        [[0., 0., 0.,  ..., 0., 0., 0.],\n",
      "         [0., 0., 0.,  ..., 0., 0., 0.],\n",
      "         [0., 0., 0.,  ..., 0., 0., 0.],\n",
      "         ...,\n",
      "         [0., 0., 0.,  ..., 0., 0., 0.],\n",
      "         [0., 0., 0.,  ..., 0., 0., 0.],\n",
      "         [0., 0., 0.,  ..., 0., 0., 0.]],\n",
      "\n",
      "        [[0., 0., 0.,  ..., 0., 0., 0.],\n",
      "         [0., 0., 0.,  ..., 0., 0., 0.],\n",
      "         [0., 0., 0.,  ..., 0., 0., 0.],\n",
      "         ...,\n",
      "         [0., 0., 0.,  ..., 0., 0., 0.],\n",
      "         [0., 0., 0.,  ..., 0., 0., 0.],\n",
      "         [0., 0., 0.,  ..., 0., 0., 0.]],\n",
      "\n",
      "        ...,\n",
      "\n",
      "        [[0., 0., 0.,  ..., 0., 0., 0.],\n",
      "         [0., 0., 0.,  ..., 0., 0., 0.],\n",
      "         [0., 0., 0.,  ..., 0., 0., 0.],\n",
      "         ...,\n",
      "         [0., 0., 0.,  ..., 0., 0., 0.],\n",
      "         [0., 0., 0.,  ..., 0., 0., 0.],\n",
      "         [0., 0., 0.,  ..., 0., 0., 0.]],\n",
      "\n",
      "        [[0., 0., 0.,  ..., 0., 0., 0.],\n",
      "         [0., 0., 0.,  ..., 0., 0., 0.],\n",
      "         [0., 0., 0.,  ..., 0., 0., 0.],\n",
      "         ...,\n",
      "         [0., 0., 0.,  ..., 0., 0., 0.],\n",
      "         [0., 0., 0.,  ..., 0., 0., 0.],\n",
      "         [0., 0., 0.,  ..., 0., 0., 0.]],\n",
      "\n",
      "        [[0., 0., 0.,  ..., 0., 0., 0.],\n",
      "         [0., 0., 0.,  ..., 0., 0., 0.],\n",
      "         [0., 0., 0.,  ..., 0., 0., 0.],\n",
      "         ...,\n",
      "         [0., 0., 0.,  ..., 0., 0., 0.],\n",
      "         [0., 0., 0.,  ..., 0., 0., 0.],\n",
      "         [0., 0., 0.,  ..., 0., 0., 0.]]])\n",
      "\u001b[0;31mLength:\u001b[0m      5000\n",
      "\u001b[0;31mFile:\u001b[0m        ~/opt/anaconda3/envs/venv1/lib/python3.8/site-packages/torch/__init__.py\n",
      "\u001b[0;31mDocstring:\u001b[0m   <no docstring>\n"
     ]
    }
   ],
   "source": []
  },
  {
   "cell_type": "code",
   "execution_count": 11,
   "metadata": {},
   "outputs": [],
   "source": [
    "train,test = mnist()"
   ]
  },
  {
   "cell_type": "code",
   "execution_count": 13,
   "metadata": {},
   "outputs": [
    {
     "name": "stdout",
     "output_type": "stream",
     "text": [
      "\u001b[0;31mType:\u001b[0m        Dataset\n",
      "\u001b[0;31mString form:\u001b[0m <__main__.Dataset object at 0x7fbbd8c63c40>\n",
      "\u001b[0;31mLength:\u001b[0m      25000\n",
      "\u001b[0;31mDocstring:\u001b[0m   <no docstring>\n"
     ]
    }
   ],
   "source": [
    "train??"
   ]
  }
 ],
 "metadata": {
  "kernelspec": {
   "display_name": "venv1",
   "language": "python",
   "name": "python3"
  },
  "language_info": {
   "codemirror_mode": {
    "name": "ipython",
    "version": 3
   },
   "file_extension": ".py",
   "mimetype": "text/x-python",
   "name": "python",
   "nbconvert_exporter": "python",
   "pygments_lexer": "ipython3",
   "version": "3.8.13 (default, Mar 28 2022, 06:16:26) \n[Clang 12.0.0 ]"
  },
  "orig_nbformat": 4,
  "vscode": {
   "interpreter": {
    "hash": "ac5508c8e1df463d7330a5b60a5e0a1103f1ed14a99f651bccdac65323c1446a"
   }
  }
 },
 "nbformat": 4,
 "nbformat_minor": 2
}
